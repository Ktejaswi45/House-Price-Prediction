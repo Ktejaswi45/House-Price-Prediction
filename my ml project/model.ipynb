{
 "cells": [
  {
   "cell_type": "code",
   "execution_count": null,
   "metadata": {},
   "outputs": [],
   "source": [
    "# Import libraries\n",
    "import pandas as pd\n",
    "from sklearn.linear_model import LinearRegression\n",
    "from sklearn.model_selection import train_test_split\n",
    "import joblib\n",
    "\n",
    "# Load data\n",
    "data = {\n",
    "    \"Area(in sq. ft)\": {\"0\": 1000, \"1\": 1200, \"2\": 1500, \"3\": 1800, \"4\": 2000, \"5\": 2300, \"6\": 2500, \"7\": 2700, \"8\": 3000, \"9\": 3200},\n",
    "    \"Price(in Rs.)\": {\"0\": 1500000, \"1\": 1800000, \"2\": 2250000, \"3\": 2700000, \"4\": 3000000, \"5\": 3450000, \"6\": 3750000, \"7\": 4050000, \"8\": 4500000, \"9\": 4800000}\n",
    "}\n",
    "\n",
    "df = pd.DataFrame(data)\n",
    "\n",
    "# Prepare features and target\n",
    "X = df[[\"Area(in sq. ft)\"]]\n",
    "y = df[\"Price(in Rs.)\"]\n",
    "\n",
    "# Split data into training and testing sets\n",
    "X_train, X_test, y_train, y_test = train_test_split(X, y, test_size=0.2, random_state=42)\n",
    "\n",
    "# Train the model\n",
    "model = LinearRegression()\n",
    "model.fit(X_train, y_train)\n",
    "\n",
    "# Save the trained model\n",
    "joblib.dump(model, \"model.pkl\")\n",
    "\n",
    "print(\"Model trained and saved as model.pkl\")\n"
   ]
  }
 ],
 "metadata": {
  "kernelspec": {
   "display_name": "Python 3",
   "language": "python",
   "name": "python3"
  },
  "language_info": {
   "codemirror_mode": {
    "name": "ipython",
    "version": 3
   },
   "file_extension": ".py",
   "mimetype": "text/x-python",
   "name": "python",
   "nbconvert_exporter": "python",
   "pygments_lexer": "ipython3",
   "version": "3.11.9"
  }
 },
 "nbformat": 4,
 "nbformat_minor": 2
}
